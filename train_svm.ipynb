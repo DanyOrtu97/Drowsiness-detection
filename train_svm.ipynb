{
 "cells": [
  {
   "cell_type": "code",
   "execution_count": 1,
   "metadata": {
    "collapsed": true
   },
   "outputs": [],
   "source": [
    "import pickle\n",
    "import sklearn as skl\n",
    "from scipy.spatial import distance as dist\n",
    "from imutils import face_utils\n",
    "import imutils\n",
    "import dlib\n",
    "import cv2\n",
    "import os\n",
    "from sklearn.svm import SVC\n",
    "def eye_aspect_ratio(eye):\n",
    "\t# compute the euclidean distances between the two sets of\n",
    "\t# vertical eye landmarks (x, y)-coordinates\n",
    "\tA = dist.euclidean(eye[1], eye[5])\n",
    "\tB = dist.euclidean(eye[2], eye[4])\n",
    "\n",
    "\t# compute the euclidean distance between the horizontal\n",
    "\t# eye landmark (x, y)-coordinates\n",
    "\tC = dist.euclidean(eye[0], eye[3])\n",
    "\n",
    "\t# compute the eye aspect ratio\n",
    "\tear = (A + B) / (2.0 * C)\n",
    "\n",
    "\t# return the eye aspect ratio\n",
    "\treturn ear\n",
    "\n",
    "def get_areas(img):\n",
    "    EYE_AR_THRESH = 0.3\n",
    "    EYE_AR_CONSEC_FRAMES = 3\n",
    "    detector = dlib.get_frontal_face_detector()\n",
    "    predictor = dlib.shape_predictor(\"/media/andrea/Dati2/DLA/ProgettoDLA-Puglisi-/shape_predictor_68_face_landmarks.dat\")\n",
    "    (lStart, lEnd) = face_utils.FACIAL_LANDMARKS_IDXS[\"left_eye\"]\n",
    "    (rStart, rEnd) = face_utils.FACIAL_LANDMARKS_IDXS[\"right_eye\"]\n",
    "\n",
    "    imutils.resize(image=img, width=450)\n",
    "    gray = cv2.cvtColor(img, cv2.COLOR_BGR2GRAY)\n",
    "\n",
    "    rects = detector(gray, 0)\n",
    "    # loop over the face detections\n",
    "    for rect in rects:\n",
    "        # determine the facial landmarks for the face region, then\n",
    "        # convert the facial landmark (x, y)-coordinates to a NumPy\n",
    "        # array\n",
    "        shape = predictor(gray, rect)\n",
    "        shape = face_utils.shape_to_np(shape)\n",
    "\n",
    "        # extract the left and right eye coordinates, then use the\n",
    "        # coordinates to compute the eye aspect ratio for both eyes\n",
    "        leftEye = shape[lStart:lEnd]\n",
    "        rightEye = shape[rStart:rEnd]\n",
    "        leftEAR = eye_aspect_ratio(leftEye)\n",
    "        rightEAR = eye_aspect_ratio(rightEye)\n",
    "\n",
    "        # average the eye aspect ratio together for both eyes\n",
    "        ear = (leftEAR + rightEAR) / 2.0\n",
    "\n",
    "        # check to see if the eye aspect ratio is below the blink\n",
    "        # threshold, and if so, increment the blink frame counter\n",
    "        return ear\n"
   ]
  },
  {
   "cell_type": "code",
   "execution_count": 2,
   "outputs": [],
   "source": [
    "import os\n",
    "import glob\n",
    "\n",
    "\n",
    "dataset_path = \"/media/andrea/Dati2/DLA/\"\n",
    "imagesclosed = [cv2.imread(file) for file in glob.glob(dataset_path+\"dataset_B_FacialImages/ClosedFace/\" + \"*.jpg\")]\n",
    "imagesopen = [cv2.imread(file) for file in glob.glob(dataset_path+\"dataset_B_FacialImages/OpenFace/\" +\"*.jpg\")]\n",
    "train_set = os.listdir(dataset_path)"
   ],
   "metadata": {
    "collapsed": false,
    "pycharm": {
     "name": "#%%\n"
    }
   }
  },
  {
   "cell_type": "code",
   "execution_count": 3,
   "outputs": [
    {
     "name": "stderr",
     "output_type": "stream",
     "text": [
      "[========================================================================] 100%\r\n"
     ]
    }
   ],
   "source": [
    "import numpy as np\n",
    "#from parfor import parfor\n",
    "import progressbar\n",
    "from time import sleep\n",
    "\n",
    "X = []\n",
    "Y = []\n",
    "index = 0\n",
    "\n",
    "def ears(img, label):\n",
    "    e = get_areas(img)\n",
    "    if e is not None:\n",
    "        X.append(e)\n",
    "        Y.append(label)\n",
    "i = 0\n",
    "bar = progressbar.ProgressBar(maxval=len(imagesclosed), widgets=[progressbar.Bar('=', '[', ']'), ' ', progressbar.Percentage()])\n",
    "bar.start()\n",
    "bar.start()\n",
    "for im in imagesclosed:\n",
    "    bar.update(i+1)\n",
    "    ears(im, 0)\n",
    "    i+=1\n",
    "bar.finish()"
   ],
   "metadata": {
    "collapsed": false,
    "pycharm": {
     "name": "#%%\n"
    }
   }
  },
  {
   "cell_type": "code",
   "execution_count": 4,
   "outputs": [
    {
     "name": "stderr",
     "output_type": "stream",
     "text": [
      "[========================================================================] 100%\r\n"
     ]
    }
   ],
   "source": [
    "from sklearn import svm\n",
    "from sklearn.svm import SVC\n",
    "import numpy as np\n",
    "bar = progressbar.ProgressBar(maxval=len(imagesopen), widgets=[progressbar.Bar('=', '[', ']'), ' ', progressbar.Percentage()])\n",
    "bar.start()\n",
    "bar.start()\n",
    "i = 0\n",
    "for im in imagesopen:\n",
    "    bar.update(i+1)\n",
    "    ears(im, 1)\n",
    "    i+=1\n",
    "bar.finish()\n",
    "\n",
    "X2 = np.asarray(X).reshape(-1,1)\n",
    "Y2 = np.asarray(Y)"
   ],
   "metadata": {
    "collapsed": false,
    "pycharm": {
     "name": "#%%\n"
    }
   }
  },
  {
   "cell_type": "code",
   "execution_count": 22,
   "outputs": [
    {
     "data": {
      "text/plain": "HBox(children=(HTML(value=''), FloatProgress(value=0.0, max=10.0), HTML(value='')))",
      "application/vnd.jupyter.widget-view+json": {
       "version_major": 2,
       "version_minor": 0,
       "model_id": "57416a1bcde14a29a319028821384f6f"
      }
     },
     "metadata": {},
     "output_type": "display_data"
    },
    {
     "name": "stdout",
     "output_type": "stream",
     "text": [
      "\n",
      "[0, 3, 12, 27, 48, 75, 108, 147, 192, 243]\n"
     ]
    }
   ],
   "source": [
    "from sklearn import svm\n",
    "from sklearn.svm import SVC\n",
    "import numpy as np\n",
    "clf = svm.SVC()\n",
    "clf.fit(X2, Y2)\n",
    "filename = 'svm.sav'\n",
    "pickle.dump(clf, open(filename, 'wb'))"
   ],
   "metadata": {
    "collapsed": false,
    "pycharm": {
     "name": "#%%\n"
    }
   }
  },
  {
   "cell_type": "code",
   "execution_count": 5,
   "outputs": [],
   "source": [
    "from sklearn import svm\n",
    "import pickle\n",
    "\n",
    "clf = svm.SVC(C=1000, gamma=0.1)\n",
    "clf.fit(X2, Y2)\n",
    "filename = 'svm_C=1000_gamma=0.1.sav'\n",
    "pickle.dump(clf, open(filename, 'wb'))\n",
    "\n"
   ],
   "metadata": {
    "collapsed": false,
    "pycharm": {
     "name": "#%%\n"
    }
   }
  }
 ],
 "metadata": {
  "kernelspec": {
   "display_name": "Python 3",
   "language": "python",
   "name": "python3"
  },
  "language_info": {
   "codemirror_mode": {
    "name": "ipython",
    "version": 2
   },
   "file_extension": ".py",
   "mimetype": "text/x-python",
   "name": "python",
   "nbconvert_exporter": "python",
   "pygments_lexer": "ipython2",
   "version": "2.7.6"
  }
 },
 "nbformat": 4,
 "nbformat_minor": 0
}