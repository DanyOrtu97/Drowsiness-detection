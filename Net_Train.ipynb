{
  "nbformat": 4,
  "nbformat_minor": 0,
  "metadata": {
    "kernelspec": {
      "name": "pycharm-43a80b0",
      "language": "python",
      "display_name": "PyCharm (ProgettoDLA-Puglisi-)"
    },
    "language_info": {
      "codemirror_mode": {
        "name": "ipython",
        "version": 2
      },
      "file_extension": ".py",
      "mimetype": "text/x-python",
      "name": "python",
      "nbconvert_exporter": "python",
      "pygments_lexer": "ipython2",
      "version": "2.7.6"
    },
    "colab": {
      "name": "Benchmarker.ipynb",
      "provenance": []
    }
  },
  "cells": [
    {
      "cell_type": "code",
      "metadata": {
        "collapsed": true,
        "id": "gkLYv6HBM4j6"
      },
      "source": [
        "import tensorflow as tf\n",
        "import numpy as np"
      ],
      "execution_count": 28,
      "outputs": []
    },
    {
      "cell_type": "code",
      "metadata": {
        "id": "gLqUgMAyQ9Xk"
      },
      "source": [
        "from google.colab import drive\r\n",
        "drive.mount('/content/drive')"
      ],
      "execution_count": null,
      "outputs": []
    },
    {
      "cell_type": "code",
      "metadata": {
        "pycharm": {
          "name": "#%%\n"
        },
        "id": "QT-7Ab32M4j7"
      },
      "source": [
        "Blinks = np.load('/content/drive/MyDrive/DLA/npy/Blinks_F3.npy')\n",
        "Labels = np.load('/content/drive/MyDrive/DLA/npy/Labels_F3.npy')\n",
        "BlinksTest = np.load('/content/drive/MyDrive/DLA/npy/BlinksTest_F3.npy')\n",
        "LabelsTest = np.load('/content/drive/MyDrive/DLA/npy/LabelsTest_F3.npy')\n",
        "    #deciding the indices of each video based on the fold\n",
        "    #####################Normalizing the input#############Second phase\n",
        "BlinksTest[:,:,0]=(BlinksTest[:,:,0]-np.mean(Blinks[:,:,0]))/np.std(Blinks[:,:,0])\n",
        "Blinks[:,:,0]=(Blinks[:,:,0]-np.mean(Blinks[:,:,0]))/np.std(Blinks[:,:,0])\n",
        "    #####\n",
        "    #####\n",
        "BlinksTest[:,:,1]=(BlinksTest[:,:,1]-np.mean(Blinks[:,:,1]))/np.std(Blinks[:,:,1])\n",
        "Blinks[:,:,1]=(Blinks[:,:,1]-np.mean(Blinks[:,:,1]))/np.std(Blinks[:,:,1])\n",
        "    #####\n",
        "BlinksTest[:,:,2]=(BlinksTest[:,:,2]-np.mean(Blinks[:,:,2]))/np.std(Blinks[:,:,2])\n",
        "Blinks[:,:,2]=(Blinks[:,:,2]-np.mean(Blinks[:,:,2]))/np.std(Blinks[:,:,2])\n",
        "    #####\n",
        "BlinksTest[:,:,3]=(BlinksTest[:,:,3]-np.mean(Blinks[:,:,3]))/np.std(Blinks[:,:,3])\n",
        "Blinks[:,:,3]=(Blinks[:,:,3]-np.mean(Blinks[:,:,3]))/np.std(Blinks[:,:,3])\n",
        "    ####\n",
        "    ####JUST TO DOUBLE CHECK\n",
        "    ####\n",
        "    # print(np.mean(Blinks[:,:,0]),np.mean(Blinks[:,:,1]),np.mean(Blinks[:,:,2]),np.mean(Blinks[:,:,3]))\n",
        "    # print(np.std(Blinks[:,:,0]),np.std(Blinks[:,:,1]),np.std(Blinks[:,:,2]),np.std(Blinks[:,:,3]))\n",
        "    # print(np.mean(BlinksTest[:,:,0]),np.mean(BlinksTest[:,:,1]),np.mean(BlinksTest[:,:,2]),np.mean(BlinksTest[:,:,3]))\n",
        "    # print(np.std(BlinksTest[:,:,0]),np.std(BlinksTest[:,:,1]),np.std(BlinksTest[:,:,2]),np.std(BlinksTest[:,:,3]))"
      ],
      "execution_count": 29,
      "outputs": []
    },
    {
      "cell_type": "code",
      "metadata": {
        "id": "KXPk40ffK_iw"
      },
      "source": [
        "#BinarizationLabels\r\n",
        "LabelsTest[LabelsTest==10] = 1\r\n",
        "Labels[Labels==10] = 1"
      ],
      "execution_count": 48,
      "outputs": []
    },
    {
      "cell_type": "code",
      "metadata": {
        "pycharm": {
          "name": "#%%\n"
        },
        "id": "4QvMI1ELM4j8"
      },
      "source": [
        "def create_model(model_name):\n",
        "    if model_name == 'LSTMreza':\n",
        "      input = tf.keras.Input(shape=(30, 4))\n",
        "      x = tf.keras.layers.Dense(64, activation='relu')(input)\n",
        "      x = tf.keras.layers.Masking(mask_value=0.0)(x)\n",
        "      x = tf.keras.layers.LSTM(32, return_sequences=False,dropout=0.1, recurrent_dropout=0.1)(x)\n",
        "      x = tf.keras.layers.Dense(16, activation='relu')(x)\n",
        "      x = tf.keras.layers.Dropout(0.2)(x)\n",
        "      x = tf.keras.layers.Dense(16, activation='relu')(x)\n",
        "      x = tf.keras.layers.Dense(8, activation='relu')(x)\n",
        "      x = tf.keras.layers.Dropout(0.1)(x)\n",
        "      y = tf.keras.layers.Dense(1, activation='tanh')(x)\n",
        "      model = tf.keras.models.Model(inputs=[input], outputs=[y])\n",
        "    elif model_name == 'LSTM':\n",
        "      input = tf.keras.Input(shape=(30, 4))\n",
        "      x = tf.keras.layers.Masking(mask_value=0.0)(input)\n",
        "      x = tf.keras.layers.LSTM(32, return_sequences=False,dropout=0.1, recurrent_dropout=0.1)(x)\n",
        "      x = tf.keras.layers.Dense(16, activation='relu')(x)\n",
        "      x = tf.keras.layers.Dropout(0.5)(x)\n",
        "      y = tf.keras.layers.Dense(1, activation='tanh')(x)\n",
        "      model = tf.keras.models.Model(inputs=[input], outputs=[y])\n",
        "    elif model_name == 'stackedreza':\n",
        "      input = tf.keras.Input(shape=(30, 4))\n",
        "      x = tf.keras.layers.Dense(64, activation='relu')(input)\n",
        "      x = tf.keras.layers.Masking(mask_value=0.0)(x)\n",
        "      rnn_cells = [tf.keras.layers.LSTMCell(32, dropout=0.1, recurrent_dropout=0.1) for _ in range(4)]\n",
        "      stacked_lstm = tf.keras.layers.StackedRNNCells(rnn_cells)\n",
        "      x = tf.keras.layers.RNN(stacked_lstm)(x)\n",
        "      x = tf.keras.layers.Dense(16, activation='relu')(x)\n",
        "      x = tf.keras.layers.Dropout(0.2)(x)\n",
        "      x = tf.keras.layers.Dense(16, activation='relu')(x)\n",
        "      x = tf.keras.layers.Dense(8, activation='relu')(x)\n",
        "      x = tf.keras.layers.Dropout(0.1)(x)\n",
        "      y = tf.keras.layers.Dense(1, activation='tanh')(x)\n",
        "      model = tf.keras.models.Model(inputs=[input], outputs=[y])\n",
        "    else:\n",
        "      print(\"Chiama le cose con il loro nome\")\n",
        "    return model"
      ],
      "execution_count": 82,
      "outputs": []
    },
    {
      "cell_type": "code",
      "metadata": {
        "id": "XTyY8Q7WQWAe"
      },
      "source": [
        "model_name = \"stackedreza\"\r\n",
        "model = create_model(model_name)"
      ],
      "execution_count": 99,
      "outputs": []
    },
    {
      "cell_type": "code",
      "metadata": {
        "colab": {
          "base_uri": "https://localhost:8080/"
        },
        "id": "t6zYeqvFQaBl",
        "outputId": "2b8059bc-aaee-4f91-9603-e53b0ea0292a"
      },
      "source": [
        "model.summary()"
      ],
      "execution_count": 100,
      "outputs": [
        {
          "output_type": "stream",
          "text": [
            "Model: \"model_10\"\n",
            "_________________________________________________________________\n",
            "Layer (type)                 Output Shape              Param #   \n",
            "=================================================================\n",
            "input_20 (InputLayer)        [(None, 30, 4)]           0         \n",
            "_________________________________________________________________\n",
            "dense_60 (Dense)             (None, 30, 64)            320       \n",
            "_________________________________________________________________\n",
            "masking_19 (Masking)         (None, 30, 64)            0         \n",
            "_________________________________________________________________\n",
            "rnn_13 (RNN)                 (None, 32)                37376     \n",
            "_________________________________________________________________\n",
            "dense_61 (Dense)             (None, 16)                528       \n",
            "_________________________________________________________________\n",
            "dropout_20 (Dropout)         (None, 16)                0         \n",
            "_________________________________________________________________\n",
            "dense_62 (Dense)             (None, 16)                272       \n",
            "_________________________________________________________________\n",
            "dense_63 (Dense)             (None, 8)                 136       \n",
            "_________________________________________________________________\n",
            "dropout_21 (Dropout)         (None, 8)                 0         \n",
            "_________________________________________________________________\n",
            "dense_64 (Dense)             (None, 1)                 9         \n",
            "=================================================================\n",
            "Total params: 38,641\n",
            "Trainable params: 38,641\n",
            "Non-trainable params: 0\n",
            "_________________________________________________________________\n"
          ],
          "name": "stdout"
        }
      ]
    },
    {
      "cell_type": "code",
      "metadata": {
        "id": "08YWVpLJQjgB"
      },
      "source": [
        "lr = 0.00053\r\n",
        "bs = 128\r\n",
        "ep = 80\r\n",
        "model.compile(optimizer=tf.keras.optimizers.Adam(learning_rate=lr), \r\n",
        "              loss=tf.keras.losses.BinaryCrossentropy(),\r\n",
        "              metrics=['accuracy']\r\n",
        ")"
      ],
      "execution_count": 101,
      "outputs": []
    },
    {
      "cell_type": "code",
      "metadata": {
        "colab": {
          "base_uri": "https://localhost:8080/"
        },
        "id": "rt592QOSQn4V",
        "outputId": "59a40e34-85dc-4d48-acd2-3770a031e27f"
      },
      "source": [
        "model.fit(x= Blinks, y = Labels, validation_data=(BlinksTest, LabelsTest), epochs=ep, batch_size=bs)"
      ],
      "execution_count": null,
      "outputs": [
        {
          "output_type": "stream",
          "text": [
            "Epoch 1/80\n",
            "61/61 [==============================] - 24s 224ms/step - loss: 2.1184 - accuracy: 0.4570 - val_loss: 1.1235 - val_accuracy: 0.2994\n",
            "Epoch 2/80\n",
            "61/61 [==============================] - 13s 209ms/step - loss: 0.9760 - accuracy: 0.4616 - val_loss: 0.8063 - val_accuracy: 0.2994\n",
            "Epoch 3/80\n",
            "61/61 [==============================] - 13s 210ms/step - loss: 0.8395 - accuracy: 0.5074 - val_loss: 0.6798 - val_accuracy: 0.6930\n",
            "Epoch 4/80\n",
            "61/61 [==============================] - 13s 208ms/step - loss: 0.7652 - accuracy: 0.5133 - val_loss: 0.6346 - val_accuracy: 0.7321\n",
            "Epoch 5/80\n",
            "61/61 [==============================] - 13s 210ms/step - loss: 0.7590 - accuracy: 0.5133 - val_loss: 0.6156 - val_accuracy: 0.7055\n",
            "Epoch 6/80\n",
            "61/61 [==============================] - 13s 210ms/step - loss: 0.7358 - accuracy: 0.5319 - val_loss: 0.6006 - val_accuracy: 0.7143\n",
            "Epoch 7/80\n",
            "61/61 [==============================] - 13s 210ms/step - loss: 0.7267 - accuracy: 0.5418 - val_loss: 0.5801 - val_accuracy: 0.7210\n",
            "Epoch 8/80\n",
            "61/61 [==============================] - 13s 208ms/step - loss: 0.7236 - accuracy: 0.5382 - val_loss: 0.5610 - val_accuracy: 0.7526\n",
            "Epoch 9/80\n",
            "61/61 [==============================] - 13s 208ms/step - loss: 0.7061 - accuracy: 0.5417 - val_loss: 0.5306 - val_accuracy: 0.7810\n",
            "Epoch 10/80\n",
            "61/61 [==============================] - 13s 209ms/step - loss: 0.6931 - accuracy: 0.5492 - val_loss: 0.4976 - val_accuracy: 0.7952\n",
            "Epoch 11/80\n",
            "61/61 [==============================] - 13s 209ms/step - loss: 0.6807 - accuracy: 0.5770 - val_loss: 0.4518 - val_accuracy: 0.8019\n",
            "Epoch 12/80\n",
            "61/61 [==============================] - 13s 209ms/step - loss: 0.6701 - accuracy: 0.5908 - val_loss: 0.4047 - val_accuracy: 0.8036\n",
            "Epoch 13/80\n",
            "61/61 [==============================] - 13s 209ms/step - loss: 0.6556 - accuracy: 0.6082 - val_loss: 0.3615 - val_accuracy: 0.8143\n",
            "Epoch 14/80\n",
            "61/61 [==============================] - 13s 209ms/step - loss: 0.6398 - accuracy: 0.6286 - val_loss: 0.3545 - val_accuracy: 0.8312\n",
            "Epoch 15/80\n",
            "61/61 [==============================] - 13s 212ms/step - loss: 0.6277 - accuracy: 0.6402 - val_loss: 0.4172 - val_accuracy: 0.8094\n",
            "Epoch 16/80\n",
            "61/61 [==============================] - 13s 214ms/step - loss: 0.6452 - accuracy: 0.6351 - val_loss: 0.5234 - val_accuracy: 0.6899\n",
            "Epoch 17/80\n",
            "61/61 [==============================] - 13s 210ms/step - loss: 0.6251 - accuracy: 0.6382 - val_loss: 0.5024 - val_accuracy: 0.7041\n",
            "Epoch 18/80\n",
            "61/61 [==============================] - 13s 213ms/step - loss: 0.6010 - accuracy: 0.6761 - val_loss: 0.5146 - val_accuracy: 0.6806\n",
            "Epoch 19/80\n",
            "61/61 [==============================] - 13s 210ms/step - loss: 0.6095 - accuracy: 0.6594 - val_loss: 0.4838 - val_accuracy: 0.7441\n",
            "Epoch 20/80\n",
            "61/61 [==============================] - 13s 209ms/step - loss: 0.5959 - accuracy: 0.6684 - val_loss: 0.6442 - val_accuracy: 0.5300\n",
            "Epoch 21/80\n",
            "61/61 [==============================] - 13s 209ms/step - loss: 0.6135 - accuracy: 0.6553 - val_loss: 0.4736 - val_accuracy: 0.7623\n",
            "Epoch 22/80\n",
            "61/61 [==============================] - 13s 210ms/step - loss: 0.5887 - accuracy: 0.6746 - val_loss: 0.5978 - val_accuracy: 0.5815\n",
            "Epoch 23/80\n",
            "61/61 [==============================] - 13s 209ms/step - loss: 0.5737 - accuracy: 0.6881 - val_loss: 0.5393 - val_accuracy: 0.6348\n",
            "Epoch 24/80\n",
            "61/61 [==============================] - 13s 210ms/step - loss: 0.5650 - accuracy: 0.6955 - val_loss: 0.6943 - val_accuracy: 0.5402\n",
            "Epoch 25/80\n",
            "61/61 [==============================] - 13s 209ms/step - loss: 0.5653 - accuracy: 0.6858 - val_loss: 0.7016 - val_accuracy: 0.5175\n",
            "Epoch 26/80\n",
            "61/61 [==============================] - 13s 210ms/step - loss: 0.5758 - accuracy: 0.6908 - val_loss: 0.5202 - val_accuracy: 0.6877\n",
            "Epoch 27/80\n",
            "61/61 [==============================] - 13s 210ms/step - loss: 0.5667 - accuracy: 0.6931 - val_loss: 0.5984 - val_accuracy: 0.6228\n",
            "Epoch 28/80\n",
            "61/61 [==============================] - 13s 209ms/step - loss: 0.5704 - accuracy: 0.6913 - val_loss: 0.6473 - val_accuracy: 0.5895\n",
            "Epoch 29/80\n",
            "14/61 [=====>........................] - ETA: 9s - loss: 0.5561 - accuracy: 0.7162"
          ],
          "name": "stdout"
        }
      ]
    },
    {
      "cell_type": "code",
      "metadata": {
        "id": "Ml6xThmJfFXX"
      },
      "source": [
        "del model"
      ],
      "execution_count": 98,
      "outputs": []
    },
    {
      "cell_type": "code",
      "metadata": {
        "pycharm": {
          "name": "#%%\n"
        },
        "id": "WGAI9sTNM4j9"
      },
      "source": [
        "tf.compat.v1.disable_eager_execution()\n",
        "training = tf.compat.v1.placeholder(tf.bool,name='phase_train')"
      ],
      "execution_count": null,
      "outputs": []
    }
  ]
}