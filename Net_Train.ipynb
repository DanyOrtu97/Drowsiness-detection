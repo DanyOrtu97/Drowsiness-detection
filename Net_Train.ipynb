{
  "nbformat": 4,
  "nbformat_minor": 0,
  "metadata": {
    "kernelspec": {
      "name": "pycharm-43a80b0",
      "language": "python",
      "display_name": "PyCharm (ProgettoDLA-Puglisi-)"
    },
    "language_info": {
      "codemirror_mode": {
        "name": "ipython",
        "version": 2
      },
      "file_extension": ".py",
      "mimetype": "text/x-python",
      "name": "python",
      "nbconvert_exporter": "python",
      "pygments_lexer": "ipython2",
      "version": "2.7.6"
    },
    "colab": {
      "name": "Benchmarker.ipynb",
      "provenance": []
    }
  },
  "cells": [
    {
      "cell_type": "code",
      "metadata": {
        "collapsed": true,
        "id": "gkLYv6HBM4j6"
      },
      "source": [
        "import tensorflow as tf\n",
        "import numpy as np"
      ],
      "execution_count": 28,
      "outputs": []
    },
    {
      "cell_type": "code",
      "metadata": {
        "id": "gLqUgMAyQ9Xk"
      },
      "source": [
        "from google.colab import drive\r\n",
        "drive.mount('/content/drive')"
      ],
      "execution_count": null,
      "outputs": []
    },
    {
      "cell_type": "code",
      "metadata": {
        "pycharm": {
          "name": "#%%\n"
        },
        "id": "QT-7Ab32M4j7"
      },
      "source": [
        "Blinks = np.load('/content/drive/MyDrive/DLA/npy/Blinks_F3.npy')\n",
        "Labels = np.load('/content/drive/MyDrive/DLA/npy/Labels_F3.npy')\n",
        "BlinksTest = np.load('/content/drive/MyDrive/DLA/npy/BlinksTest_F3.npy')\n",
        "LabelsTest = np.load('/content/drive/MyDrive/DLA/npy/LabelsTest_F3.npy')\n",
        "    #deciding the indices of each video based on the fold\n",
        "    #####################Normalizing the input#############Second phase\n",
        "BlinksTest[:,:,0]=(BlinksTest[:,:,0]-np.mean(Blinks[:,:,0]))/np.std(Blinks[:,:,0])\n",
        "Blinks[:,:,0]=(Blinks[:,:,0]-np.mean(Blinks[:,:,0]))/np.std(Blinks[:,:,0])\n",
        "    #####\n",
        "    #####\n",
        "BlinksTest[:,:,1]=(BlinksTest[:,:,1]-np.mean(Blinks[:,:,1]))/np.std(Blinks[:,:,1])\n",
        "Blinks[:,:,1]=(Blinks[:,:,1]-np.mean(Blinks[:,:,1]))/np.std(Blinks[:,:,1])\n",
        "    #####\n",
        "BlinksTest[:,:,2]=(BlinksTest[:,:,2]-np.mean(Blinks[:,:,2]))/np.std(Blinks[:,:,2])\n",
        "Blinks[:,:,2]=(Blinks[:,:,2]-np.mean(Blinks[:,:,2]))/np.std(Blinks[:,:,2])\n",
        "    #####\n",
        "BlinksTest[:,:,3]=(BlinksTest[:,:,3]-np.mean(Blinks[:,:,3]))/np.std(Blinks[:,:,3])\n",
        "Blinks[:,:,3]=(Blinks[:,:,3]-np.mean(Blinks[:,:,3]))/np.std(Blinks[:,:,3])\n",
        "    ####\n",
        "    ####JUST TO DOUBLE CHECK\n",
        "    ####\n",
        "    # print(np.mean(Blinks[:,:,0]),np.mean(Blinks[:,:,1]),np.mean(Blinks[:,:,2]),np.mean(Blinks[:,:,3]))\n",
        "    # print(np.std(Blinks[:,:,0]),np.std(Blinks[:,:,1]),np.std(Blinks[:,:,2]),np.std(Blinks[:,:,3]))\n",
        "    # print(np.mean(BlinksTest[:,:,0]),np.mean(BlinksTest[:,:,1]),np.mean(BlinksTest[:,:,2]),np.mean(BlinksTest[:,:,3]))\n",
        "    # print(np.std(BlinksTest[:,:,0]),np.std(BlinksTest[:,:,1]),np.std(BlinksTest[:,:,2]),np.std(BlinksTest[:,:,3]))"
      ],
      "execution_count": 29,
      "outputs": []
    },
    {
      "cell_type": "code",
      "metadata": {
        "id": "KXPk40ffK_iw"
      },
      "source": [
        "#BinarizationLabels\r\n",
        "LabelsTest[LabelsTest==10] = 1\r\n",
        "Labels[Labels==10] = 1"
      ],
      "execution_count": 48,
      "outputs": []
    },
    {
      "cell_type": "code",
      "metadata": {
        "pycharm": {
          "name": "#%%\n"
        },
        "id": "4QvMI1ELM4j8"
      },
      "source": [
        "def create_model(model_name):\n",
        "    if model_name == 'LSTMreza':\n",
        "      input = tf.keras.Input(shape=(30, 4))\n",
        "      x = tf.keras.layers.Dense(64, activation='relu')(input)\n",
        "      x = tf.keras.layers.Masking(mask_value=0.0)(x)\n",
        "      x = tf.keras.layers.LSTM(32, return_sequences=False,dropout=0.1, recurrent_dropout=0.1)(x)\n",
        "      x = tf.keras.layers.Dense(16, activation='relu')(x)\n",
        "      x = tf.keras.layers.Dropout(0.2)(x)\n",
        "      x = tf.keras.layers.Dense(16, activation='relu')(x)\n",
        "      x = tf.keras.layers.Dense(8, activation='relu')(x)\n",
        "      x = tf.keras.layers.Dropout(0.1)(x)\n",
        "      y = tf.keras.layers.Dense(1, activation='tanh')(x)\n",
        "      model = tf.keras.models.Model(inputs=[input], outputs=[y])\n",
        "    elif model_name == 'LSTM':\n",
        "      input = tf.keras.Input(shape=(30, 4))\n",
        "      x = tf.keras.layers.Masking(mask_value=0.0)(input)\n",
        "      x = tf.keras.layers.LSTM(32, return_sequences=False,dropout=0.1, recurrent_dropout=0.1)(x)\n",
        "      x = tf.keras.layers.Dense(16, activation='relu')(x)\n",
        "      x = tf.keras.layers.Dropout(0.5)(x)\n",
        "      y = tf.keras.layers.Dense(1, activation='tanh')(x)\n",
        "      model = tf.keras.models.Model(inputs=[input], outputs=[y])\n",
        "    elif model_name == 'stackedreza':\n",
        "      input = tf.keras.Input(shape=(30, 4))\n",
        "      x = tf.keras.layers.Dense(128, activation='relu')(input)\n",
        "      x = tf.keras.layers.Masking(mask_value=0.0)(x)\n",
        "      #rnn_cells = [tf.keras.layers.LSTMCell(36, dropout=0.1, recurrent_dropout=0.1) for _ in range(4)]\n",
        "      #stacked_lstm = tf.keras.layers.StackedRNNCells(rnn_cells)\n",
        "      #x = tf.keras.layers.RNN(stacked_lstm, return_sequences=False)(x)\n",
        "      x = tf.keras.layers.LSTM(32, return_sequences=False,dropout=0.1, recurrent_dropout=0.1)(x)\n",
        "      x = tf.keras.layers.Dense(32, activation='relu')(x)\n",
        "      x = tf.keras.layers.Dropout(0.2)(x)\n",
        "      x = tf.keras.layers.Dense(16, activation='relu')(x)\n",
        "      x = tf.keras.layers.Dense(8, activation='relu')(x)\n",
        "      x = tf.keras.layers.Dropout(0.1)(x)\n",
        "      y = tf.keras.layers.Dense(1, activation='tanh')(x)\n",
        "      model = tf.keras.models.Model(inputs=[input], outputs=[y])\n",
        "    elif model_name == 'giaco':\n",
        "      input = tf.keras.Input(shape=(30, 4))\n",
        "      x = tf.keras.layers.Dense(128, activation='relu')(input)\n",
        "      x = tf.keras.layers.Masking(mask_value=0.0)(x)\n",
        "      #rnn_cells = [tf.keras.layers.LSTMCell(36, dropout=0.1, recurrent_dropout=0.1) for _ in range(4)]\n",
        "      #stacked_lstm = tf.keras.layers.StackedRNNCells(rnn_cells)\n",
        "      #x = tf.keras.layers.RNN(stacked_lstm, return_sequences=False)(x)\n",
        "      x = tf.keras.layers.LSTM(64, return_sequences=False,dropout=0.1, recurrent_dropout=0.1)(x)\n",
        "      x = tf.keras.layers.Dense(128, activation='relu')(x)\n",
        "      x = tf.keras.layers.Dropout(0.2)(x)\n",
        "      x = tf.keras.layers.Dense(64, activation='relu')(x)\n",
        "      x = tf.keras.layers.Dense(32, activation='relu')(x)\n",
        "      x = tf.keras.layers.Dense(16, activation='relu')(x)\n",
        "      x = tf.keras.layers.Dense(8, activation='relu')(x)\n",
        "      y = tf.keras.layers.Dense(1, activation='tanh')(x)\n",
        "      model = tf.keras.models.Model(inputs=[input], outputs=[y])\n",
        "    else:\n",
        "      print(\"Chiama le cose con il loro nome\")\n",
        "    return model"
      ],
      "execution_count": 232,
      "outputs": []
    },
    {
      "cell_type": "code",
      "metadata": {
        "id": "XTyY8Q7WQWAe"
      },
      "source": [
        "model_name = \"giaco\"\r\n",
        "model = create_model(model_name)"
      ],
      "execution_count": 284,
      "outputs": []
    },
    {
      "cell_type": "code",
      "metadata": {
        "colab": {
          "base_uri": "https://localhost:8080/"
        },
        "id": "t6zYeqvFQaBl",
        "outputId": "e3df86d6-6faf-4d5f-d72b-43c4f70531a5"
      },
      "source": [
        "model.summary()"
      ],
      "execution_count": 285,
      "outputs": [
        {
          "output_type": "stream",
          "text": [
            "Model: \"model_36\"\n",
            "_________________________________________________________________\n",
            "Layer (type)                 Output Shape              Param #   \n",
            "=================================================================\n",
            "input_58 (InputLayer)        [(None, 30, 4)]           0         \n",
            "_________________________________________________________________\n",
            "dense_228 (Dense)            (None, 30, 128)           640       \n",
            "_________________________________________________________________\n",
            "masking_57 (Masking)         (None, 30, 128)           0         \n",
            "_________________________________________________________________\n",
            "lstm_36 (LSTM)               (None, 64)                49408     \n",
            "_________________________________________________________________\n",
            "dense_229 (Dense)            (None, 128)               8320      \n",
            "_________________________________________________________________\n",
            "dropout_60 (Dropout)         (None, 128)               0         \n",
            "_________________________________________________________________\n",
            "dense_230 (Dense)            (None, 64)                8256      \n",
            "_________________________________________________________________\n",
            "dense_231 (Dense)            (None, 32)                2080      \n",
            "_________________________________________________________________\n",
            "dense_232 (Dense)            (None, 16)                528       \n",
            "_________________________________________________________________\n",
            "dense_233 (Dense)            (None, 8)                 136       \n",
            "_________________________________________________________________\n",
            "dense_234 (Dense)            (None, 1)                 9         \n",
            "=================================================================\n",
            "Total params: 69,377\n",
            "Trainable params: 69,377\n",
            "Non-trainable params: 0\n",
            "_________________________________________________________________\n"
          ],
          "name": "stdout"
        }
      ]
    },
    {
      "cell_type": "code",
      "metadata": {
        "id": "qB2m7h3P2UsO"
      },
      "source": [
        "my_callbacks = [\r\n",
        "    tf.keras.callbacks.EarlyStopping(patience=5)\r\n",
        "    ]"
      ],
      "execution_count": 286,
      "outputs": []
    },
    {
      "cell_type": "code",
      "metadata": {
        "id": "08YWVpLJQjgB"
      },
      "source": [
        "lr = 0.00053\r\n",
        "bs = 128\r\n",
        "ep = 100\r\n",
        "model.compile(optimizer=tf.keras.optimizers.Adam(learning_rate=lr), \r\n",
        "              loss=tf.keras.losses.BinaryCrossentropy(),\r\n",
        "              metrics=['accuracy']\r\n",
        ")"
      ],
      "execution_count": 287,
      "outputs": []
    },
    {
      "cell_type": "code",
      "metadata": {
        "colab": {
          "base_uri": "https://localhost:8080/",
          "height": 324
        },
        "id": "rt592QOSQn4V",
        "outputId": "07791e4d-e4cc-4514-bd9f-c3c8b3fa3d6b"
      },
      "source": [
        "model.fit(x= Blinks, y = Labels, validation_data=(BlinksTest, LabelsTest), epochs=ep, batch_size=bs, callbacks=my_callbacks)"
      ],
      "execution_count": 288,
      "outputs": [
        {
          "output_type": "stream",
          "text": [
            "43/61 [====================>.........] - ETA: 2s - loss: 0.6433 - accuracy: 0.6074"
          ],
          "name": "stdout"
        },
        {
          "output_type": "error",
          "ename": "KeyboardInterrupt",
          "evalue": "ignored",
          "traceback": [
            "\u001b[0;31m---------------------------------------------------------------------------\u001b[0m",
            "\u001b[0;31mKeyboardInterrupt\u001b[0m                         Traceback (most recent call last)",
            "\u001b[0;32m<ipython-input-288-741854979bff>\u001b[0m in \u001b[0;36m<module>\u001b[0;34m()\u001b[0m\n\u001b[0;32m----> 1\u001b[0;31m \u001b[0mmodel\u001b[0m\u001b[0;34m.\u001b[0m\u001b[0mfit\u001b[0m\u001b[0;34m(\u001b[0m\u001b[0mx\u001b[0m\u001b[0;34m=\u001b[0m \u001b[0mBlinks\u001b[0m\u001b[0;34m,\u001b[0m \u001b[0my\u001b[0m \u001b[0;34m=\u001b[0m \u001b[0mLabels\u001b[0m\u001b[0;34m,\u001b[0m \u001b[0mvalidation_data\u001b[0m\u001b[0;34m=\u001b[0m\u001b[0;34m(\u001b[0m\u001b[0mBlinksTest\u001b[0m\u001b[0;34m,\u001b[0m \u001b[0mLabelsTest\u001b[0m\u001b[0;34m)\u001b[0m\u001b[0;34m,\u001b[0m \u001b[0mepochs\u001b[0m\u001b[0;34m=\u001b[0m\u001b[0mep\u001b[0m\u001b[0;34m,\u001b[0m \u001b[0mbatch_size\u001b[0m\u001b[0;34m=\u001b[0m\u001b[0mbs\u001b[0m\u001b[0;34m,\u001b[0m \u001b[0mcallbacks\u001b[0m\u001b[0;34m=\u001b[0m\u001b[0mmy_callbacks\u001b[0m\u001b[0;34m)\u001b[0m\u001b[0;34m\u001b[0m\u001b[0;34m\u001b[0m\u001b[0m\n\u001b[0m",
            "\u001b[0;32m/usr/local/lib/python3.6/dist-packages/tensorflow/python/keras/engine/training.py\u001b[0m in \u001b[0;36mfit\u001b[0;34m(self, x, y, batch_size, epochs, verbose, callbacks, validation_split, validation_data, shuffle, class_weight, sample_weight, initial_epoch, steps_per_epoch, validation_steps, validation_batch_size, validation_freq, max_queue_size, workers, use_multiprocessing)\u001b[0m\n\u001b[1;32m   1098\u001b[0m                 _r=1):\n\u001b[1;32m   1099\u001b[0m               \u001b[0mcallbacks\u001b[0m\u001b[0;34m.\u001b[0m\u001b[0mon_train_batch_begin\u001b[0m\u001b[0;34m(\u001b[0m\u001b[0mstep\u001b[0m\u001b[0;34m)\u001b[0m\u001b[0;34m\u001b[0m\u001b[0;34m\u001b[0m\u001b[0m\n\u001b[0;32m-> 1100\u001b[0;31m               \u001b[0mtmp_logs\u001b[0m \u001b[0;34m=\u001b[0m \u001b[0mself\u001b[0m\u001b[0;34m.\u001b[0m\u001b[0mtrain_function\u001b[0m\u001b[0;34m(\u001b[0m\u001b[0miterator\u001b[0m\u001b[0;34m)\u001b[0m\u001b[0;34m\u001b[0m\u001b[0;34m\u001b[0m\u001b[0m\n\u001b[0m\u001b[1;32m   1101\u001b[0m               \u001b[0;32mif\u001b[0m \u001b[0mdata_handler\u001b[0m\u001b[0;34m.\u001b[0m\u001b[0mshould_sync\u001b[0m\u001b[0;34m:\u001b[0m\u001b[0;34m\u001b[0m\u001b[0;34m\u001b[0m\u001b[0m\n\u001b[1;32m   1102\u001b[0m                 \u001b[0mcontext\u001b[0m\u001b[0;34m.\u001b[0m\u001b[0masync_wait\u001b[0m\u001b[0;34m(\u001b[0m\u001b[0;34m)\u001b[0m\u001b[0;34m\u001b[0m\u001b[0;34m\u001b[0m\u001b[0m\n",
            "\u001b[0;32m/usr/local/lib/python3.6/dist-packages/tensorflow/python/eager/def_function.py\u001b[0m in \u001b[0;36m__call__\u001b[0;34m(self, *args, **kwds)\u001b[0m\n\u001b[1;32m    826\u001b[0m     \u001b[0mtracing_count\u001b[0m \u001b[0;34m=\u001b[0m \u001b[0mself\u001b[0m\u001b[0;34m.\u001b[0m\u001b[0mexperimental_get_tracing_count\u001b[0m\u001b[0;34m(\u001b[0m\u001b[0;34m)\u001b[0m\u001b[0;34m\u001b[0m\u001b[0;34m\u001b[0m\u001b[0m\n\u001b[1;32m    827\u001b[0m     \u001b[0;32mwith\u001b[0m \u001b[0mtrace\u001b[0m\u001b[0;34m.\u001b[0m\u001b[0mTrace\u001b[0m\u001b[0;34m(\u001b[0m\u001b[0mself\u001b[0m\u001b[0;34m.\u001b[0m\u001b[0m_name\u001b[0m\u001b[0;34m)\u001b[0m \u001b[0;32mas\u001b[0m \u001b[0mtm\u001b[0m\u001b[0;34m:\u001b[0m\u001b[0;34m\u001b[0m\u001b[0;34m\u001b[0m\u001b[0m\n\u001b[0;32m--> 828\u001b[0;31m       \u001b[0mresult\u001b[0m \u001b[0;34m=\u001b[0m \u001b[0mself\u001b[0m\u001b[0;34m.\u001b[0m\u001b[0m_call\u001b[0m\u001b[0;34m(\u001b[0m\u001b[0;34m*\u001b[0m\u001b[0margs\u001b[0m\u001b[0;34m,\u001b[0m \u001b[0;34m**\u001b[0m\u001b[0mkwds\u001b[0m\u001b[0;34m)\u001b[0m\u001b[0;34m\u001b[0m\u001b[0;34m\u001b[0m\u001b[0m\n\u001b[0m\u001b[1;32m    829\u001b[0m       \u001b[0mcompiler\u001b[0m \u001b[0;34m=\u001b[0m \u001b[0;34m\"xla\"\u001b[0m \u001b[0;32mif\u001b[0m \u001b[0mself\u001b[0m\u001b[0;34m.\u001b[0m\u001b[0m_experimental_compile\u001b[0m \u001b[0;32melse\u001b[0m \u001b[0;34m\"nonXla\"\u001b[0m\u001b[0;34m\u001b[0m\u001b[0;34m\u001b[0m\u001b[0m\n\u001b[1;32m    830\u001b[0m       \u001b[0mnew_tracing_count\u001b[0m \u001b[0;34m=\u001b[0m \u001b[0mself\u001b[0m\u001b[0;34m.\u001b[0m\u001b[0mexperimental_get_tracing_count\u001b[0m\u001b[0;34m(\u001b[0m\u001b[0;34m)\u001b[0m\u001b[0;34m\u001b[0m\u001b[0;34m\u001b[0m\u001b[0m\n",
            "\u001b[0;32m/usr/local/lib/python3.6/dist-packages/tensorflow/python/eager/def_function.py\u001b[0m in \u001b[0;36m_call\u001b[0;34m(self, *args, **kwds)\u001b[0m\n\u001b[1;32m    853\u001b[0m       \u001b[0;31m# In this case we have created variables on the first call, so we run the\u001b[0m\u001b[0;34m\u001b[0m\u001b[0;34m\u001b[0m\u001b[0;34m\u001b[0m\u001b[0m\n\u001b[1;32m    854\u001b[0m       \u001b[0;31m# defunned version which is guaranteed to never create variables.\u001b[0m\u001b[0;34m\u001b[0m\u001b[0;34m\u001b[0m\u001b[0;34m\u001b[0m\u001b[0m\n\u001b[0;32m--> 855\u001b[0;31m       \u001b[0;32mreturn\u001b[0m \u001b[0mself\u001b[0m\u001b[0;34m.\u001b[0m\u001b[0m_stateless_fn\u001b[0m\u001b[0;34m(\u001b[0m\u001b[0;34m*\u001b[0m\u001b[0margs\u001b[0m\u001b[0;34m,\u001b[0m \u001b[0;34m**\u001b[0m\u001b[0mkwds\u001b[0m\u001b[0;34m)\u001b[0m  \u001b[0;31m# pylint: disable=not-callable\u001b[0m\u001b[0;34m\u001b[0m\u001b[0;34m\u001b[0m\u001b[0m\n\u001b[0m\u001b[1;32m    856\u001b[0m     \u001b[0;32melif\u001b[0m \u001b[0mself\u001b[0m\u001b[0;34m.\u001b[0m\u001b[0m_stateful_fn\u001b[0m \u001b[0;32mis\u001b[0m \u001b[0;32mnot\u001b[0m \u001b[0;32mNone\u001b[0m\u001b[0;34m:\u001b[0m\u001b[0;34m\u001b[0m\u001b[0;34m\u001b[0m\u001b[0m\n\u001b[1;32m    857\u001b[0m       \u001b[0;31m# Release the lock early so that multiple threads can perform the call\u001b[0m\u001b[0;34m\u001b[0m\u001b[0;34m\u001b[0m\u001b[0;34m\u001b[0m\u001b[0m\n",
            "\u001b[0;32m/usr/local/lib/python3.6/dist-packages/tensorflow/python/eager/function.py\u001b[0m in \u001b[0;36m__call__\u001b[0;34m(self, *args, **kwargs)\u001b[0m\n\u001b[1;32m   2941\u001b[0m        filtered_flat_args) = self._maybe_define_function(args, kwargs)\n\u001b[1;32m   2942\u001b[0m     return graph_function._call_flat(\n\u001b[0;32m-> 2943\u001b[0;31m         filtered_flat_args, captured_inputs=graph_function.captured_inputs)  # pylint: disable=protected-access\n\u001b[0m\u001b[1;32m   2944\u001b[0m \u001b[0;34m\u001b[0m\u001b[0m\n\u001b[1;32m   2945\u001b[0m   \u001b[0;34m@\u001b[0m\u001b[0mproperty\u001b[0m\u001b[0;34m\u001b[0m\u001b[0;34m\u001b[0m\u001b[0m\n",
            "\u001b[0;32m/usr/local/lib/python3.6/dist-packages/tensorflow/python/eager/function.py\u001b[0m in \u001b[0;36m_call_flat\u001b[0;34m(self, args, captured_inputs, cancellation_manager)\u001b[0m\n\u001b[1;32m   1917\u001b[0m       \u001b[0;31m# No tape is watching; skip to running the function.\u001b[0m\u001b[0;34m\u001b[0m\u001b[0;34m\u001b[0m\u001b[0;34m\u001b[0m\u001b[0m\n\u001b[1;32m   1918\u001b[0m       return self._build_call_outputs(self._inference_function.call(\n\u001b[0;32m-> 1919\u001b[0;31m           ctx, args, cancellation_manager=cancellation_manager))\n\u001b[0m\u001b[1;32m   1920\u001b[0m     forward_backward = self._select_forward_and_backward_functions(\n\u001b[1;32m   1921\u001b[0m         \u001b[0margs\u001b[0m\u001b[0;34m,\u001b[0m\u001b[0;34m\u001b[0m\u001b[0;34m\u001b[0m\u001b[0m\n",
            "\u001b[0;32m/usr/local/lib/python3.6/dist-packages/tensorflow/python/eager/function.py\u001b[0m in \u001b[0;36mcall\u001b[0;34m(self, ctx, args, cancellation_manager)\u001b[0m\n\u001b[1;32m    558\u001b[0m               \u001b[0minputs\u001b[0m\u001b[0;34m=\u001b[0m\u001b[0margs\u001b[0m\u001b[0;34m,\u001b[0m\u001b[0;34m\u001b[0m\u001b[0;34m\u001b[0m\u001b[0m\n\u001b[1;32m    559\u001b[0m               \u001b[0mattrs\u001b[0m\u001b[0;34m=\u001b[0m\u001b[0mattrs\u001b[0m\u001b[0;34m,\u001b[0m\u001b[0;34m\u001b[0m\u001b[0;34m\u001b[0m\u001b[0m\n\u001b[0;32m--> 560\u001b[0;31m               ctx=ctx)\n\u001b[0m\u001b[1;32m    561\u001b[0m         \u001b[0;32melse\u001b[0m\u001b[0;34m:\u001b[0m\u001b[0;34m\u001b[0m\u001b[0;34m\u001b[0m\u001b[0m\n\u001b[1;32m    562\u001b[0m           outputs = execute.execute_with_cancellation(\n",
            "\u001b[0;32m/usr/local/lib/python3.6/dist-packages/tensorflow/python/eager/execute.py\u001b[0m in \u001b[0;36mquick_execute\u001b[0;34m(op_name, num_outputs, inputs, attrs, ctx, name)\u001b[0m\n\u001b[1;32m     58\u001b[0m     \u001b[0mctx\u001b[0m\u001b[0;34m.\u001b[0m\u001b[0mensure_initialized\u001b[0m\u001b[0;34m(\u001b[0m\u001b[0;34m)\u001b[0m\u001b[0;34m\u001b[0m\u001b[0;34m\u001b[0m\u001b[0m\n\u001b[1;32m     59\u001b[0m     tensors = pywrap_tfe.TFE_Py_Execute(ctx._handle, device_name, op_name,\n\u001b[0;32m---> 60\u001b[0;31m                                         inputs, attrs, num_outputs)\n\u001b[0m\u001b[1;32m     61\u001b[0m   \u001b[0;32mexcept\u001b[0m \u001b[0mcore\u001b[0m\u001b[0;34m.\u001b[0m\u001b[0m_NotOkStatusException\u001b[0m \u001b[0;32mas\u001b[0m \u001b[0me\u001b[0m\u001b[0;34m:\u001b[0m\u001b[0;34m\u001b[0m\u001b[0;34m\u001b[0m\u001b[0m\n\u001b[1;32m     62\u001b[0m     \u001b[0;32mif\u001b[0m \u001b[0mname\u001b[0m \u001b[0;32mis\u001b[0m \u001b[0;32mnot\u001b[0m \u001b[0;32mNone\u001b[0m\u001b[0;34m:\u001b[0m\u001b[0;34m\u001b[0m\u001b[0;34m\u001b[0m\u001b[0m\n",
            "\u001b[0;31mKeyboardInterrupt\u001b[0m: "
          ]
        }
      ]
    },
    {
      "cell_type": "code",
      "metadata": {
        "id": "Ml6xThmJfFXX"
      },
      "source": [
        "del model"
      ],
      "execution_count": 283,
      "outputs": []
    },
    {
      "cell_type": "markdown",
      "metadata": {
        "id": "oUbeb0R_7SMT"
      },
      "source": [
        "## Ensembled"
      ]
    },
    {
      "cell_type": "code",
      "metadata": {
        "id": "93pjsB9N7Qnf"
      },
      "source": [
        "models = []\r\n",
        "models.append(create_model('giaco'))\r\n",
        "models.append(create_model('LSTMreza'))\r\n",
        "models.append(create_model('LSTM'))"
      ],
      "execution_count": 291,
      "outputs": []
    },
    {
      "cell_type": "code",
      "metadata": {
        "id": "NMRmgYfZ8SqX"
      },
      "source": [
        "#dictionary of parameters for every net [ep, bs, lr]\r\n",
        "model1_parameters = {'name': 'giaco', 'ep': 100, 'bs': 128, 'lr': 0.00053}\r\n",
        "model2_parameters = {'name': 'LSTMreza','ep': 100, 'bs': 128, 'lr': 0.00053}\r\n",
        "model3_parameters = {'name': 'LSTM','ep': 100, 'bs': 128, 'lr': 0.00053}\r\n",
        "parameters = []\r\n",
        "parameters.append(model1_parameters)\r\n",
        "parameters.append(model2_parameters)\r\n",
        "parameters.append(model3_parameters)\r\n"
      ],
      "execution_count": 293,
      "outputs": []
    },
    {
      "cell_type": "code",
      "metadata": {
        "colab": {
          "base_uri": "https://localhost:8080/"
        },
        "id": "f47gx0Qy79ph",
        "outputId": "2d05cb1b-7f9a-41d5-bafd-f261682fa0e3"
      },
      "source": [
        "for i in range(len(models)):\r\n",
        "  name = parameters[i]['name']\r\n",
        "  lr = parameters[i]['lr']\r\n",
        "  bs = parameters[i]['bs']\r\n",
        "  ep = parameters[i]['ep']\r\n",
        "  models[i].compile(optimizer=tf.keras.optimizers.Adam(learning_rate=lr), \r\n",
        "              loss=tf.keras.losses.BinaryCrossentropy(),\r\n",
        "              metrics=['accuracy']\r\n",
        "  )\r\n",
        "  models[i].fit(x= Blinks, y = Labels, validation_data=(BlinksTest, LabelsTest), epochs=ep, batch_size=bs, callbacks=my_callbacks)\r\n",
        "  models[i].save('/content/drive/MyDrive/DLA/' + name + 'ep=' + ep + 'bs=' + bs + 'lr=' + lr)"
      ],
      "execution_count": null,
      "outputs": [
        {
          "output_type": "stream",
          "text": [
            "Epoch 1/100\n",
            "61/61 [==============================] - 13s 167ms/step - loss: 1.4334 - accuracy: 0.4860 - val_loss: 0.4361 - val_accuracy: 0.7570\n",
            "Epoch 2/100\n",
            "23/61 [==========>...................] - ETA: 5s - loss: 0.6563 - accuracy: 0.5944"
          ],
          "name": "stdout"
        }
      ]
    },
    {
      "cell_type": "code",
      "metadata": {
        "id": "aczYlRDJ-BxL"
      },
      "source": [
        "#to check\r\n",
        "labels = []\r\n",
        "for m in models:\r\n",
        "    predicts = np.argmax(m.predict(test), axis=1)\r\n",
        "    labels.append(predicts)\r\n",
        "    \r\n",
        "# Ensemble with voting\r\n",
        "labels = np.array(labels)\r\n",
        "labels = np.transpose(labels, (1, 0))\r\n",
        "labels = scipy.stats.mode(labels, axis=-1)[0]\r\n",
        "labels = np.squeeze(labels)"
      ],
      "execution_count": null,
      "outputs": []
    },
    {
      "cell_type": "code",
      "metadata": {
        "pycharm": {
          "name": "#%%\n"
        },
        "id": "WGAI9sTNM4j9"
      },
      "source": [
        "tf.compat.v1.disable_eager_execution()\n",
        "training = tf.compat.v1.placeholder(tf.bool,name='phase_train')"
      ],
      "execution_count": null,
      "outputs": []
    }
  ]
}